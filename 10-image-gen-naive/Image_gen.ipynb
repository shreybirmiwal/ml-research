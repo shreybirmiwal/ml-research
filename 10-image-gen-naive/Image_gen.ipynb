{
 "cells": [
  {
   "cell_type": "code",
   "execution_count": null,
   "id": "556b4e0e-6b65-4d0f-8af1-65e58b81d0cb",
   "metadata": {},
   "outputs": [],
   "source": [
    "#>>> I = numpy.asarray(PIL.Image.open('test.jpg'))\n",
    "\n",
    "#>>> im = PIL.Image.fromarray(numpy.uint8(I))"
   ]
  },
  {
   "cell_type": "code",
   "execution_count": 39,
   "id": "c7abdd32-e7b3-44c9-9942-53637a137268",
   "metadata": {},
   "outputs": [],
   "source": [
    "from PIL import Image \n",
    "import numpy\n",
    "import torch\n",
    "\n",
    "xs = []\n",
    "ys = []\n",
    "\n",
    "for i in range(0, 10):\n",
    "    img = Image.open(f'images/images/image_{i}.jpeg')\n",
    "    I = numpy.asarray(img)\n",
    "    #print(\"data\", I)\n",
    "    \n",
    "    xs.append([257,257,257,0,0])\n",
    "    ys.append(I[0][0].tolist())\n",
    "\n",
    "\n",
    "    for rows in range(0, 16):\n",
    "        for cols in range(0,16):\n",
    "            if rows==15 and cols ==15:\n",
    "                continue\n",
    "\n",
    "            temp_x = I[rows][cols].tolist()\n",
    "            temp_x.append(rows)\n",
    "            temp_x.append(cols)\n",
    "\n",
    "            xs.append(temp_x)\n",
    "            if cols == 15:\n",
    "                ys.append(I[rows+1][0].tolist())\n",
    "            else:\n",
    "                ys.append(I[rows][cols+1].tolist())\n",
    "            \n",
    "xs = torch.tensor(xs)\n",
    "ys = torch.tensor(ys)\n",
    "\n",
    "#print(\"Xs\", xs)\n",
    "#print(\"Ys\", ys)\n"
   ]
  }
 ],
 "metadata": {
  "kernelspec": {
   "display_name": "Python 3 (ipykernel)",
   "language": "python",
   "name": "python3"
  },
  "language_info": {
   "codemirror_mode": {
    "name": "ipython",
    "version": 3
   },
   "file_extension": ".py",
   "mimetype": "text/x-python",
   "name": "python",
   "nbconvert_exporter": "python",
   "pygments_lexer": "ipython3",
   "version": "3.12.4"
  }
 },
 "nbformat": 4,
 "nbformat_minor": 5
}
