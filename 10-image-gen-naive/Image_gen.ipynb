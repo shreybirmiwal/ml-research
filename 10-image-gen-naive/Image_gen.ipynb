{
 "cells": [
  {
   "cell_type": "code",
   "execution_count": null,
   "id": "556b4e0e-6b65-4d0f-8af1-65e58b81d0cb",
   "metadata": {},
   "outputs": [],
   "source": [
    "#>>> I = numpy.asarray(PIL.Image.open('test.jpg'))\n",
    "\n",
    "#>>> im = PIL.Image.fromarray(numpy.uint8(I))"
   ]
  },
  {
   "cell_type": "code",
   "execution_count": 47,
   "id": "c7abdd32-e7b3-44c9-9942-53637a137268",
   "metadata": {},
   "outputs": [],
   "source": [
    "from PIL import Image \n",
    "import numpy\n",
    "import torch\n",
    "\n",
    "xs = []\n",
    "ys = []\n",
    "\n",
    "for i in range(0, 10):\n",
    "    img = Image.open(f'images/images/image_{i}.jpeg')\n",
    "    I = numpy.asarray(img)\n",
    "    #print(\"data\", I)\n",
    "    \n",
    "    xs.append([257,257,257,0,0])\n",
    "    ys.append(I[0][0].tolist())\n",
    "\n",
    "\n",
    "    for rows in range(0, 16):\n",
    "        for cols in range(0,16):\n",
    "            if rows==15 and cols ==15:\n",
    "                continue\n",
    "\n",
    "            temp_x = I[rows][cols].tolist()\n",
    "            temp_x.append(rows)\n",
    "            temp_x.append(cols)\n",
    "\n",
    "            xs.append(temp_x)\n",
    "            if cols == 15:\n",
    "                ys.append(I[rows+1][0].tolist())\n",
    "            else:\n",
    "                ys.append(I[rows][cols+1].tolist())\n",
    "            \n",
    "xs = torch.tensor(xs).float()\n",
    "ys = torch.tensor(ys).float()\n",
    "\n",
    "#print(\"Xs\", xs)\n",
    "#print(\"Ys\", ys)\n"
   ]
  },
  {
   "cell_type": "code",
   "execution_count": 49,
   "id": "f002caae-7787-4e26-993f-9c581a51abd7",
   "metadata": {},
   "outputs": [
    {
     "name": "stdout",
     "output_type": "stream",
     "text": [
      "probs torch.Size([2560, 3])\n"
     ]
    },
    {
     "ename": "IndexError",
     "evalue": "tensors used as indices must be long, int, byte or bool tensors",
     "output_type": "error",
     "traceback": [
      "\u001b[1;31m---------------------------------------------------------------------------\u001b[0m",
      "\u001b[1;31mIndexError\u001b[0m                                Traceback (most recent call last)",
      "Cell \u001b[1;32mIn[49], line 25\u001b[0m\n\u001b[0;32m     23\u001b[0m \u001b[38;5;28;01mfor\u001b[39;00m i \u001b[38;5;129;01min\u001b[39;00m \u001b[38;5;28mrange\u001b[39m(probs\u001b[38;5;241m.\u001b[39mshape[\u001b[38;5;241m0\u001b[39m]):\n\u001b[0;32m     24\u001b[0m     actual_output \u001b[38;5;241m=\u001b[39m ys[i]\n\u001b[1;32m---> 25\u001b[0m     predicted_prob_of_actual_output \u001b[38;5;241m=\u001b[39m \u001b[43mprobs\u001b[49m\u001b[43m[\u001b[49m\u001b[43mi\u001b[49m\u001b[43m]\u001b[49m\u001b[43m[\u001b[49m\u001b[43mactual_output\u001b[49m\u001b[43m]\u001b[49m\n\u001b[0;32m     26\u001b[0m     \u001b[38;5;28msum\u001b[39m \u001b[38;5;241m+\u001b[39m\u001b[38;5;241m=\u001b[39m predicted_prob_of_actual_output\n\u001b[0;32m     28\u001b[0m \u001b[38;5;28msum\u001b[39m \u001b[38;5;241m=\u001b[39m \u001b[38;5;28msum\u001b[39m \u001b[38;5;241m/\u001b[39m probs\u001b[38;5;241m.\u001b[39mshape[\u001b[38;5;241m0\u001b[39m]\n",
      "\u001b[1;31mIndexError\u001b[0m: tensors used as indices must be long, int, byte or bool tensors"
     ]
    }
   ],
   "source": [
    "\n",
    "W1 = torch.randn((5, 300), requires_grad=True)\n",
    "B1 = torch.randn((300), requires_grad=True)\n",
    "\n",
    "W2 = torch.randn((300, 3), requires_grad=True)\n",
    "B2 = torch.randn((3), requires_grad=True)\n",
    "\n",
    "params = (W1, B1, W2, B2)\n",
    "\n",
    "\n",
    "for _ in range(5000):\n",
    "   \n",
    "    layer1 = xs @ W1 + B1\n",
    "    tan_layer1 = torch.tanh(layer1)\n",
    "    \n",
    "    layer2 = tan_layer1 @ W2 + B2\n",
    "    \n",
    "    counts = layer2.exp()\n",
    "    probs = counts / counts.sum(1, keepdims=True)\n",
    "    print(\"probs\", probs.size())\n",
    "    \n",
    "\n",
    "    sum = 0\n",
    "    for i in range(probs.shape[0]):\n",
    "        actual_output = ys[i]\n",
    "        predicted_prob_of_actual_output = probs[i][actual_output]\n",
    "        sum += predicted_prob_of_actual_output\n",
    "    \n",
    "    sum = sum / probs.shape[0]\n",
    "    \n",
    "    neg_log_likelihood = -sum.log()\n",
    "    \n",
    "    print(\"Train #\", _ , \" Loss: \", neg_log_likelihood.item())\n",
    "\n",
    "    for param in params:\n",
    "        param.grad = None\n",
    "        \n",
    "    neg_log_likelihood.backward()\n",
    "    \n",
    "    for param in params:\n",
    "        param.data += -.1 * param.grad"
   ]
  }
 ],
 "metadata": {
  "kernelspec": {
   "display_name": "Python 3 (ipykernel)",
   "language": "python",
   "name": "python3"
  },
  "language_info": {
   "codemirror_mode": {
    "name": "ipython",
    "version": 3
   },
   "file_extension": ".py",
   "mimetype": "text/x-python",
   "name": "python",
   "nbconvert_exporter": "python",
   "pygments_lexer": "ipython3",
   "version": "3.12.4"
  }
 },
 "nbformat": 4,
 "nbformat_minor": 5
}
