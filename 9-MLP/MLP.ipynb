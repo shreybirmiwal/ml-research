{
 "cells": [
  {
   "cell_type": "code",
   "execution_count": 5,
   "id": "29d44168-3480-4018-9d42-e2fd5b2a8c6c",
   "metadata": {},
   "outputs": [
    {
     "name": "stdout",
     "output_type": "stream",
     "text": [
      "['the', 'of', 'and', 'to', 'a', 'in', 'for', 'is', 'on', 'that']\n"
     ]
    }
   ],
   "source": [
    "import numpy as np\n",
    "import torch\n",
    "\n",
    "words = []\n",
    "with open(\"google-10000-english-no-swears.txt\", 'r') as file:\n",
    "    words = file.read().splitlines()\n",
    "    \n",
    "print(words[:10])"
   ]
  },
  {
   "cell_type": "code",
   "execution_count": 37,
   "id": "c577368a-8965-4ee8-819b-0a24fbdb9e6d",
   "metadata": {},
   "outputs": [
    {
     "name": "stdout",
     "output_type": "stream",
     "text": [
      "{ { { --> a\n",
      "{ { a --> b\n",
      "{ a b --> c\n",
      "a b c --> {\n",
      "{ { { --> x\n",
      "{ { x --> y\n",
      "{ x y --> z\n",
      "x y z --> {\n",
      "{ { { --> c\n",
      "{ { c --> d\n",
      "{ c d --> e\n",
      "c d e --> {\n"
     ]
    }
   ],
   "source": [
    "def getSplitData(words):\n",
    "    \n",
    "    xs = []\n",
    "    ys = []\n",
    "    \n",
    "    for word in words:\n",
    "        word = word.lower()\n",
    "        word = \"{{{\"+word+\"{\"\n",
    "\n",
    "        for i in range(len(word)-3):\n",
    "            print(word[i], word[i+1], word[i+2], \"-->\", word[i+3])\n",
    "            \n",
    "            x = [ord(word[i])-97, ord(word[i+1])-97, ord(word[i+2])-97]\n",
    "            y = [ord(word[i+3])-97]\n",
    "\n",
    "            xs.append(x)\n",
    "            ys.append(y)\n",
    "\n",
    "    # print(xs)\n",
    "    # print(ys)\n",
    "    return (xs, ys)\n",
    "            \n",
    "data = getSplitData([\"ABC\", 'xyz', 'cde'])\n",
    "xs = data[0]\n",
    "ys = data[1]"
   ]
  }
 ],
 "metadata": {
  "kernelspec": {
   "display_name": "Python 3 (ipykernel)",
   "language": "python",
   "name": "python3"
  },
  "language_info": {
   "codemirror_mode": {
    "name": "ipython",
    "version": 3
   },
   "file_extension": ".py",
   "mimetype": "text/x-python",
   "name": "python",
   "nbconvert_exporter": "python",
   "pygments_lexer": "ipython3",
   "version": "3.12.4"
  }
 },
 "nbformat": 4,
 "nbformat_minor": 5
}
