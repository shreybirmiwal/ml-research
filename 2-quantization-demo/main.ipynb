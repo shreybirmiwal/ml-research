{
 "cells": [
  {
   "cell_type": "code",
   "execution_count": 1,
   "metadata": {},
   "outputs": [
    {
     "name": "stdout",
     "output_type": "stream",
     "text": [
      "Matrix:\n",
      "[[2.1230e-03 8.8533e-01 1.2055e-01]\n",
      " [9.4944e-01 1.3450e-01 9.1300e-01]\n",
      " [2.0000e-04 2.3000e-03 2.4000e-03]]\n",
      "Memory of matrix : 576\n",
      "\n",
      "Quantized Matrix:\n",
      "[[  0 112  15]\n",
      " [121  17 116]\n",
      " [  0   0   0]]\n",
      "Memory of quantized matrix : 72\n"
     ]
    }
   ],
   "source": [
    "#quantization demo\n",
    "import numpy as np\n",
    "\n",
    "def calc_memory(matrix):\n",
    "    return matrix.nbytes * 8\n",
    "\n",
    "def quantize_matrix(matrix):\n",
    "    return np.round(matrix * 127).astype(np.int8)\n",
    "\n",
    "ogMatrix = np.array([[.002123, .88533, .12055], [.94944, .1345, .913], [.0002, .0023, .0024]])\n",
    "print(\"Matrix:\")\n",
    "print(ogMatrix)\n",
    "print(\"Memory of matrix : \" + str(calc_memory(ogMatrix)) + \"\\n\")\n",
    "\n",
    "qMatrix = quantize_matrix(ogMatrix)\n",
    "print(\"Quantized Matrix:\")\n",
    "print(qMatrix)\n",
    "print(\"Memory of quantized matrix : \" + str(calc_memory(qMatrix)))\n"
   ]
  }
 ],
 "metadata": {
  "kernelspec": {
   "display_name": "Python 3",
   "language": "python",
   "name": "python3"
  },
  "language_info": {
   "codemirror_mode": {
    "name": "ipython",
    "version": 3
   },
   "file_extension": ".py",
   "mimetype": "text/x-python",
   "name": "python",
   "nbconvert_exporter": "python",
   "pygments_lexer": "ipython3",
   "version": "3.12.0"
  }
 },
 "nbformat": 4,
 "nbformat_minor": 2
}
