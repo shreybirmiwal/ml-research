{
 "cells": [
  {
   "cell_type": "code",
   "execution_count": 1,
   "metadata": {},
   "outputs": [
    {
     "name": "stdout",
     "output_type": "stream",
     "text": [
      "['the', 'of', 'and', 'to', 'a', 'in', 'for', 'is', 'on', 'that']\n"
     ]
    }
   ],
   "source": [
    "# read the dataset \n",
    "\n",
    "words = []\n",
    "with open('google-10000-english-no-swears.txt', 'r') as file:\n",
    "    words = file.read().splitlines()\n",
    "\n",
    "\n",
    "print(words[:10])"
   ]
  },
  {
   "cell_type": "code",
   "execution_count": 14,
   "metadata": {},
   "outputs": [
    {
     "name": "stdout",
     "output_type": "stream",
     "text": [
      "s\n",
      "h\n",
      "r\n",
      "e\n",
      "y\n",
      "{('<s>', 's'): 1, ('s', 'h'): 1, ('h', 'r'): 1, ('r', 'e'): 1, ('e', 'y'): 1, ('y', '<e>'): 1}\n"
     ]
    }
   ],
   "source": [
    "# single word\n",
    "\n",
    "\n",
    "# def getBigrams(word):\n",
    "#     word = word.lower()\n",
    "#     ar = {}\n",
    "#     for i in range(len(word)):\n",
    "#         if i == 0:\n",
    "#             ar[('<s>', word[i])] = ar.get(('<s>', word[i]), 0) + 1\n",
    "\n",
    "#         if i == (len(word)-1):\n",
    "#             ar[(word[i], '<e>')] = ar.get((word[i], '<e>'),0) + 1\n",
    "#         else:\n",
    "#             ar[(word[i], word[i+1])] = ar.get((word[i], word[i+1]), 0) + 1\n",
    "\n",
    "#         print(word[i])\n",
    "    \n",
    "#     return ar\n",
    "        \n",
    "\n",
    "\n",
    "# ar = getBigrams(\"Shrey\")\n",
    "# print(ar)"
   ]
  },
  {
   "cell_type": "code",
   "execution_count": 15,
   "metadata": {},
   "outputs": [
    {
     "name": "stdout",
     "output_type": "stream",
     "text": [
      "s\n",
      "h\n",
      "r\n",
      "e\n",
      "y\n",
      "s\n",
      "a\n",
      "m\n",
      "{('<s>', 's'): 2, ('s', 'h'): 1, ('h', 'r'): 1, ('r', 'e'): 1, ('e', 'y'): 1, ('y', '<e>'): 1, ('s', 'a'): 1, ('a', 'm'): 1, ('m', '<e>'): 1}\n"
     ]
    }
   ],
   "source": [
    "def getBigrams(words):\n",
    "\n",
    "    ar = {}\n",
    "    for word in words:\n",
    "        word = word.lower()\n",
    "        for i in range(len(word)):\n",
    "            if i == 0:\n",
    "                ar[('<s>', word[i])] = ar.get(('<s>', word[i]), 0) + 1\n",
    "\n",
    "            if i == (len(word)-1):\n",
    "                ar[(word[i], '<e>')] = ar.get((word[i], '<e>'),0) + 1\n",
    "            else:\n",
    "                ar[(word[i], word[i+1])] = ar.get((word[i], word[i+1]), 0) + 1\n",
    "\n",
    "            print(word[i])\n",
    "        \n",
    "    \n",
    "    return ar\n",
    "        \n",
    "\n",
    "\n",
    "ar = getBigrams([\"Shrey\", \"sam\"])\n",
    "print(ar)"
   ]
  }
 ],
 "metadata": {
  "kernelspec": {
   "display_name": "Python 3",
   "language": "python",
   "name": "python3"
  },
  "language_info": {
   "codemirror_mode": {
    "name": "ipython",
    "version": 3
   },
   "file_extension": ".py",
   "mimetype": "text/x-python",
   "name": "python",
   "nbconvert_exporter": "python",
   "pygments_lexer": "ipython3",
   "version": "3.11.9"
  }
 },
 "nbformat": 4,
 "nbformat_minor": 2
}
