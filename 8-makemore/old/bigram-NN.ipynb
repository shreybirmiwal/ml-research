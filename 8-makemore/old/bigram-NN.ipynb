{
 "cells": [
  {
   "cell_type": "code",
   "execution_count": 30,
   "id": "95a91906-d1df-472f-a2cf-da3f670a0e08",
   "metadata": {},
   "outputs": [],
   "source": [
    "import torch"
   ]
  },
  {
   "cell_type": "code",
   "execution_count": 31,
   "id": "0dd1b9f8-28dd-444b-9f4c-0f728822903d",
   "metadata": {},
   "outputs": [],
   "source": [
    "words = open('names.txt', 'r').read().splitlines() #dataset"
   ]
  },
  {
   "cell_type": "code",
   "execution_count": 32,
   "id": "f928cba7-f738-4fff-913f-91b286104b8b",
   "metadata": {},
   "outputs": [],
   "source": [
    "map = {\n",
    "    'a': 1, 'b': 2, 'c': 3, 'd': 4, 'e': 5,\n",
    "    'f': 6, 'g': 7, 'h': 8, 'i': 9, 'j': 10,\n",
    "    'k': 11, 'l': 12, 'm': 13, 'n': 14, 'o': 15,\n",
    "    'p': 16, 'q': 17, 'r': 18, 's': 19, 't': 20,\n",
    "    'u': 21, 'v': 22, 'w': 23, 'x': 24, 'y': 25,\n",
    "    'z': 26, '.': 0\n",
    "}"
   ]
  },
  {
   "cell_type": "code",
   "execution_count": 40,
   "id": "47393a88-105d-44b6-ab85-b7070d8bbd18",
   "metadata": {},
   "outputs": [
    {
     "name": "stdout",
     "output_type": "stream",
     "text": [
      ". e\n",
      "e m\n",
      "m m\n",
      "m a\n",
      "a .\n"
     ]
    }
   ],
   "source": [
    "#bigram dataset\n",
    "xs, ys = [], []\n",
    "\n",
    "for w in words[:1]:\n",
    "    chs = ['.'] + list(w) + ['.']\n",
    "    for ch1, ch2 in zip(chs, chs[1:]):\n",
    "        print(ch1, ch2) #character bigrams !\n",
    "        #print(map.get(ch1), map.get(ch2))\n",
    "        xs.append(map.get(ch1))\n",
    "        ys.append(map.get(ch2))\n",
    "\n",
    "x_tensor = torch.tensor(xs)\n",
    "y_tensor = torch.tensor(ys)"
   ]
  },
  {
   "cell_type": "code",
   "execution_count": 50,
   "id": "23a09b4f-071e-4883-82e8-ad172e0e4fc9",
   "metadata": {},
   "outputs": [
    {
     "data": {
      "text/plain": [
       "tensor([ 0,  5, 13, 13,  1])"
      ]
     },
     "execution_count": 50,
     "metadata": {},
     "output_type": "execute_result"
    }
   ],
   "source": [
    "x_tensor #input X values"
   ]
  },
  {
   "cell_type": "code",
   "execution_count": 52,
   "id": "e2f44b51-e014-47b7-8a6e-7f0f34caecf3",
   "metadata": {},
   "outputs": [
    {
     "data": {
      "text/plain": [
       "tensor([ 5, 13, 13,  1,  0])"
      ]
     },
     "execution_count": 52,
     "metadata": {},
     "output_type": "execute_result"
    }
   ],
   "source": [
    "y_tensor #input Y values"
   ]
  },
  {
   "cell_type": "code",
   "execution_count": 65,
   "id": "b57f1275-f42c-48e0-ab97-54ae0b3bf220",
   "metadata": {},
   "outputs": [],
   "source": [
    "# one hot encode the x tensors\n",
    "import torch.nn.functional as F\n",
    "xencoded = F.one_hot(x_tensor, num_classes=27).float()"
   ]
  },
  {
   "cell_type": "code",
   "execution_count": 67,
   "id": "7ebc9a58-2dc5-4f50-a8aa-ce85e6fc5d2e",
   "metadata": {},
   "outputs": [
    {
     "name": "stdout",
     "output_type": "stream",
     "text": [
      "torch.Size([5, 27])\n"
     ]
    },
    {
     "data": {
      "text/plain": [
       "tensor([[1., 0., 0., 0., 0., 0., 0., 0., 0., 0., 0., 0., 0., 0., 0., 0., 0., 0.,\n",
       "         0., 0., 0., 0., 0., 0., 0., 0., 0.],\n",
       "        [0., 0., 0., 0., 0., 1., 0., 0., 0., 0., 0., 0., 0., 0., 0., 0., 0., 0.,\n",
       "         0., 0., 0., 0., 0., 0., 0., 0., 0.],\n",
       "        [0., 0., 0., 0., 0., 0., 0., 0., 0., 0., 0., 0., 0., 1., 0., 0., 0., 0.,\n",
       "         0., 0., 0., 0., 0., 0., 0., 0., 0.],\n",
       "        [0., 0., 0., 0., 0., 0., 0., 0., 0., 0., 0., 0., 0., 1., 0., 0., 0., 0.,\n",
       "         0., 0., 0., 0., 0., 0., 0., 0., 0.],\n",
       "        [0., 1., 0., 0., 0., 0., 0., 0., 0., 0., 0., 0., 0., 0., 0., 0., 0., 0.,\n",
       "         0., 0., 0., 0., 0., 0., 0., 0., 0.]])"
      ]
     },
     "execution_count": 67,
     "metadata": {},
     "output_type": "execute_result"
    }
   ],
   "source": [
    "print(xencoded.shape)\n",
    "xencoded"
   ]
  },
  {
   "cell_type": "code",
   "execution_count": 69,
   "id": "1ccafd73-dc75-45a2-b97f-71b756b06fd3",
   "metadata": {},
   "outputs": [],
   "source": [
    "#### NN PART ####"
   ]
  },
  {
   "cell_type": "code",
   "execution_count": 73,
   "id": "595b2b69-0f90-4e4f-b3b2-49bfdcac3452",
   "metadata": {},
   "outputs": [],
   "source": [
    "# initialize randomly 27 neurals weights. each neuron has 27 inputs\n",
    "\n",
    "g = torch.Generator().manual_seed(2147483647)\n",
    "W = torch.randn((27,27), generator=g)"
   ]
  },
  {
   "cell_type": "code",
   "execution_count": 77,
   "id": "99802b18-1457-4491-bb41-bd53dfc9c25c",
   "metadata": {},
   "outputs": [],
   "source": [
    "# forward pass\n",
    "xencoded = F.one_hot(x_tensor, num_classes=27).float()\n",
    "logits = xencoded @ W\n",
    "counts = logits.exp()\n",
    "probs = counts / counts.sum(1, keepdims=True)"
   ]
  },
  {
   "cell_type": "code",
   "execution_count": null,
   "id": "8f2e4245-ef51-4836-a7ab-0a8e893230f8",
   "metadata": {},
   "outputs": [],
   "source": []
  }
 ],
 "metadata": {
  "kernelspec": {
   "display_name": "Python 3 (ipykernel)",
   "language": "python",
   "name": "python3"
  },
  "language_info": {
   "codemirror_mode": {
    "name": "ipython",
    "version": 3
   },
   "file_extension": ".py",
   "mimetype": "text/x-python",
   "name": "python",
   "nbconvert_exporter": "python",
   "pygments_lexer": "ipython3",
   "version": "3.12.4"
  }
 },
 "nbformat": 4,
 "nbformat_minor": 5
}
