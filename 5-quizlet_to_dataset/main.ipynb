{
 "cells": [
  {
   "cell_type": "code",
   "execution_count": 6,
   "metadata": {},
   "outputs": [
    {
     "name": "stdout",
     "output_type": "stream",
     "text": [
      "Scraping completed. Data saved to quizlet_data.jsonl\n"
     ]
    }
   ],
   "source": [
    "import time\n",
    "import jsonlines\n",
    "from selenium import webdriver\n",
    "from selenium.webdriver.common.by import By\n",
    "\n",
    "def scrape_quizlet(quizlet_url, output_file):\n",
    "    driver = webdriver.Chrome()\n",
    "\n",
    "    try:\n",
    "        driver.get(quizlet_url)\n",
    "        time.sleep(5)\n",
    "        \n",
    "        terms = []\n",
    "        definitions = []\n",
    "        \n",
    "        term_elements = driver.find_elements(By.CLASS_NAME, 'SetPageTerms-term')\n",
    "\n",
    "        for term_elem in term_elements:\n",
    "            # Extract term\n",
    "            term_x = term_elem.find_element(By.XPATH, \".//div[@data-testid='set-page-card-side'][1]/div/span/span\")\n",
    "            term = term_x.text.strip()\n",
    "\n",
    "            # Extract definition\n",
    "            def_x = term_elem.find_element(By.XPATH, \".//div[@data-testid='set-page-card-side'][2]/div/span/span\")\n",
    "            definition = def_x.text.strip()\n",
    "\n",
    "            terms.append(term)\n",
    "            definitions.append(definition)\n",
    "        \n",
    "        with jsonlines.open(output_file, mode='w') as writer:\n",
    "            for term, definition in zip(terms, definitions):\n",
    "                data = {'input': term, 'output': definition}\n",
    "                writer.write(data)\n",
    "        \n",
    "        print(f\"Scraping completed. Data saved to {output_file}\")\n",
    "    \n",
    "    except Exception as e:\n",
    "        print(f\"Error occurred during scraping: {str(e)}\")\n",
    "    \n",
    "    finally:\n",
    "        driver.quit()\n",
    "\n",
    "quizlet_url = 'https://quizlet.com/847731671/ap-music-theory-flash-cards/'\n",
    "output_file = 'quizlet_data.jsonl'\n",
    "scrape_quizlet(quizlet_url, output_file)\n"
   ]
  }
 ],
 "metadata": {
  "kernelspec": {
   "display_name": "Python 3",
   "language": "python",
   "name": "python3"
  },
  "language_info": {
   "codemirror_mode": {
    "name": "ipython",
    "version": 3
   },
   "file_extension": ".py",
   "mimetype": "text/x-python",
   "name": "python",
   "nbconvert_exporter": "python",
   "pygments_lexer": "ipython3",
   "version": "3.12.0"
  }
 },
 "nbformat": 4,
 "nbformat_minor": 2
}
